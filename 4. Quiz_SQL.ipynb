{
 "cells": [
  {
   "cell_type": "markdown",
   "metadata": {},
   "source": [
    "# Graded Assignment 4\n",
    "## SQL and Exploratory Data Analysis\n",
    "\n",
    "The following learn-by-building exercise will guide you through the process of building out a simple analysis along with some accompanying charts. This module is considerably more difficult than similar exercise blocks in the past, but it sure is a lot more rewarding!\n",
    "\n",
    "Let's try by first constructing a DataFrame using the `read_sql_query()` method that we've grown familiar to. We want to develop a simple sales visualization report of our top 5 key markets (`Country` column in `customers`) ranked by Sales (`Total` column in `invoices`). \n",
    "\n",
    "We also want to identify our top 5 customers by name (`FirstName`, `LastName`) in the report.\n",
    "\n",
    "Last but not least, we want the report to include a day-of-week analysis on sales performance, and for that we will need the `InvoiceDate` column. \n",
    "\n",
    "> **Hint 1**: `pandas` has built-in methods of extracting the name of day in a week. We've seen this in Part 2 of this specialization (**Working with Datetime chapter**). An example usage is:\n",
    ">\n",
    "> `x['InvoiceDOW'] = x['InvoiceDate'].dt.weekday_name`\n",
    ">\n",
    ">  **Hint 2**: In `read_sql_query`, you can use the `parse_dates='InvoiceDate'` argument to have the specified column parsed as date, saving you from a `to_datetime()` conversion"
   ]
  },
  {
   "cell_type": "code",
   "execution_count": 195,
   "metadata": {},
   "outputs": [],
   "source": [
    "## Your code below\n",
    "\n",
    "\n",
    "## -- Solution code"
   ]
  },
  {
   "cell_type": "markdown",
   "metadata": {},
   "source": [
    "1. Which of the following customers are among the top 5 customers ranked by their respective total (`Total`)? Choose all that apply.\n",
    "    - [ ] Victor Stevens\n",
    "    - [ ] Hugh O'Reilly\n",
    "    - [ ] Puja Srivastava\n",
    "    - [ ] Ellie Sullivan\n",
    "\n",
    "\n",
    "2. Which of the following countries are among the top 5 grossing ranked by their respective total (`Total`)? Choose all that apply.\n",
    "    - [ ] United Kingdom\n",
    "    - [ ] Germany\n",
    "    - [ ] Portugal\n",
    "    - [ ] India\n",
    "    \n",
    "    \n",
    "3. How many sales transactions (or records, or rows) were from the top 5 countries?\n",
    "    - [ ] 412\n",
    "    - [ ] 245\n",
    "    - [ ] 1225\n",
    "    - [ ] 1000"
   ]
  },
  {
   "cell_type": "markdown",
   "metadata": {},
   "source": [
    "Use the code block below as reference to create a DataFrame containing records where the customers are from one of the top 5 countries. The number of rows in this new DataFrame should be equal to your answer in question (3). Notice that we have additionally converted our day-of-week column into a `Categorical` column:\n",
    "\n",
    "```\n",
    "top5 = x.groupby('Country').Total.sum().\\\n",
    "sort_values(ascending=False).head().index.to_list()\n",
    "\n",
    "invo_topcountry = invo[invo['Country'].isin(top5)].copy()\n",
    "\n",
    "# Represents a categorical variable in classic R fashion (pandas documentation) and have it ordered\n",
    "invo_topcountry['InvoiceDOW'] = pd.Categorical(invo_topcountry.InvoiceDOW, categories=['Monday', 'Tuesday','Wednesday','Thursday','Friday','Saturday', 'Sunday'], ordered=True)\n",
    "\n",
    "invo_topcountry.shape # same as answer for question (3)\n",
    "```\n",
    "\n",
    "4. Using the `pd.pivot_table()` method, answer the next two questions: How much sales did we make in total (`Total`) from the France market on a Tuesday? How much sales did we make in total (`Total`) from all the top 5 markets combined on a Friday?\n",
    "    - [ ] 160.41 / 173.31  \n",
    "    - [ ] 160.41 / 1368.70\n",
    "    - [ ] 1.98 / 173.31\n",
    "    - [ ] 1.98 / 1368.70\n",
    "\n",
    "\n",
    "5. Give the `pivot_table` that you created a name. Remove the margins if they were included in the earlier step. Create a visualization by chaining the `.plot()` method on the pivot table. Set the `kind` parameter to be one of: `line`, `bar`, `scatter` & `box`. Which are the **LEAST** appropriate plot type(s)?\n",
    "    - [ ] `line`\n",
    "    - [ ] `bar`\n",
    "    - [ ] `scatter`\n",
    "    - [ ] `box`"
   ]
  }
 ],
 "metadata": {
  "kernelspec": {
   "display_name": "academy",
   "language": "python",
   "name": "academy"
  },
  "language_info": {
   "codemirror_mode": {
    "name": "ipython",
    "version": 3
   },
   "file_extension": ".py",
   "mimetype": "text/x-python",
   "name": "python",
   "nbconvert_exporter": "python",
   "pygments_lexer": "ipython3",
   "version": "3.7.5"
  },
  "latex_envs": {
   "LaTeX_envs_menu_present": true,
   "autoclose": false,
   "autocomplete": true,
   "bibliofile": "biblio.bib",
   "cite_by": "apalike",
   "current_citInitial": 1,
   "eqLabelWithNumbers": true,
   "eqNumInitial": 1,
   "hotkeys": {
    "equation": "Ctrl-E",
    "itemize": "Ctrl-I"
   },
   "labels_anchors": false,
   "latex_user_defs": false,
   "report_style_numbering": false,
   "user_envs_cfg": false
  },
  "toc": {
   "base_numbering": 1,
   "nav_menu": {},
   "number_sections": true,
   "sideBar": true,
   "skip_h1_title": false,
   "title_cell": "Table of Contents",
   "title_sidebar": "Contents",
   "toc_cell": false,
   "toc_position": {},
   "toc_section_display": true,
   "toc_window_display": false
  }
 },
 "nbformat": 4,
 "nbformat_minor": 2
}
